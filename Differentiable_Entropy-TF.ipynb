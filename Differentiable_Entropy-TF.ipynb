{
 "cells": [
  {
   "cell_type": "markdown",
   "metadata": {},
   "source": [
    "# A Differentiable Approximation for Entropies "
   ]
  },
  {
   "cell_type": "markdown",
   "metadata": {},
   "source": [
    "### 1. Entropy and Information Content in Neural Networks"
   ]
  },
  {
   "cell_type": "markdown",
   "metadata": {},
   "source": [
    "Neural networks are just functions. Admittedly, highly parameterized functions, but yes - just functions: $x=f(y)$. Here, $y$ is some input - like e.g. an image - and $x$ is the output. Note that in contrast to what you usually see, we have swapped $x$ and $y$. Here's why: Consider the MNIST experiment: The neural network's job is actually to compute some kind of inverse of the *\"writing down digit $x$ yielding image $y$\"*-function. $x$ is what the MNIST instructor told the participants to write down. In statistical terms, this is the prior - denoted $x \\sim \\mathcal{X}$ (sample $x$ drawn from distribution $\\mathcal{X}$). The partipants executed the (first human step of the) function producing pixels. In statistical terms they created the posterior pixel distribution $\\mathcal{Y}$, arguably highly dependent on the prior.\n",
    "\n",
    "Once the network is sufficiently trained (the function $f(y)$ is optimized), we dare to interpret the output as an estimation for the probability of that image to represent a particular digit, given the pixel intensities of that image. We say it's probably digit $x$ - not definitely. Even humans would agree that the following digit may be interpreted in different ways. You may in fact give it a 10% probability to be a three. To compute the accuracy of $f(y)$, we interpret the highest of all probabilities as the *prediction*, like \"That image in fact *is* a digit 5\"."
   ]
  },
  {
   "cell_type": "markdown",
   "metadata": {},
   "source": [
    "![3_or_5](./images/5.png)"
   ]
  },
  {
   "cell_type": "markdown",
   "metadata": {},
   "source": [
    "Training a neural network means exposing the network to a sufficiently large sample (the training set) from a probability distribution of pixel sets (images) and guide it (via Gradient Descent) to reproduce (infer) the digit that was meant by the hand-writing (the prior). In information theory, we call *\"writing the digit down and making a photo of it\"* a noisy encoding. The information about the original intent is still encoded in the image, but sometimes there's room for misinterpretations. Now, as the pixel distribution is passed through the neural network, at each layer we create a new a new distribution - this time of activations - from the original input. It would be interesting to understand how the information content changes from layer to layer. And that's where entropy enters the game. \n",
    "\n",
    "Aurelion Geron recorded an amazingly easy-to-grasp youtube clip called [Entropy, Cross-Entropy, & KL-Divergence](https://www.youtube.com/watch?v=ErfnhcEV1O8). If you're not already familiar with the concepts of entropy, I highly recommend it. Aurelion's warm-hearted french accent makes information theory even sound somewhat sexy. Of course, there is a plethora of more serious books out there. My personal favourite is Bavaud, Chappelier, Kohlas' comprehensive introductory text - a whopping 300 pages of math available as pdf:  [An Introduction to Information Theory and Applications](http://www.fon.hum.uva.nl/rob/Courses/InformationInSpeech/CDROM/Literature/LOTwinterschool2006/diuf.unifr.ch/tcs/courses/it04-05/script/information-theory.pdf)\n",
    "\n",
    "Here's a summary of things you should know and understand to some degree:\n",
    "\n",
    "##### Entropy \n",
    "\n",
    "$$ H(X) := -\\sum_{x \\in \\mathcal{X}} p(x) \\log p(x)$$\n",
    "\n",
    "##### Conditional entropy \n",
    "\n",
    "$$ H(Y \\big| X) := -\\sum_{x \\in \\mathcal{X}} p(x) H(Y\\big|X=x) = -\\sum_{x \\in \\mathcal{X}} p(x) \\sum_{y\\in \\mathcal{Y}} p(y|x) \\cdot \\log p(y|x) = -\\sum_{x \\in \\mathcal{X}} \\sum_{y\\in \\mathcal{Y}} p(x,y) \\log(\\frac{p(x,y)}{p(x)})$$\n",
    "\n",
    "##### Joint Entropy \n",
    "\n",
    "$$ H(Y, X) := -\\sum_{x \\in \\mathcal{X}} \\sum_{y\\in \\mathcal{Y}} p(x,y) \\log p(x,y)$$\n",
    "\n",
    "##### Mutual information\n",
    "\n",
    "$$ I(X;Y) := \\sum_{x \\in \\mathcal{X}} \\sum_{y\\in \\mathcal{Y}} p(x,y)log(\\frac{p(x,y)}{p(x)p(y)}) $$\n",
    "\n",
    "##### Some useful properties \n",
    "$$ H(X,Y) \\leq H(X)+H(Y)$$\n",
    "\n",
    "$$ H(Y|X) = 0 \\iff  \\text{Y is completely determined by X} $$ \n",
    "\n",
    "$$ H(Y|X) = H(Y) \\iff \\text{X and Y are independent}$$\n",
    "\n",
    "$$ H(Y|X) = H(Y,X) - H(X) $$\n",
    "\n",
    "$$ I(X;Y) = H(X) + H(Y) - H(X,Y) $$\n",
    "\n",
    "$$ I(X;Y) = H(Y) - H(Y|X) $$"
   ]
  },
  {
   "cell_type": "markdown",
   "metadata": {},
   "source": [
    "Let's start with entropy. The entropy of a distribution is the average amount of information that we get when a particular sample is revealed to us. The weather in the Sahara has a low entropy, because if you tell me it's sunny there, I could have guessed that, anyway. Quite the opposite in e.g. Switzerland. Weather forecasts are always very appreciated, because the weather is changing so much. Same with digits: If you tell me that the center pixel of an image depicting the digit *zero* is white, that's not surprising at all. But if I didn't know what digit is displayed, that information would be very valuable, because it may be a good hint that the digit is a zero. The conditional entropy of the center pixel distribution, given $x=0$ is low. The overall entropy of the center pixel is higher. The difference between the entropy of a distribution and the conditional entropy given its prior is the *information gain* $I(X;Y) = H(Y) - H(Y|X)$."
   ]
  },
  {
   "cell_type": "markdown",
   "metadata": {},
   "source": [
    "### 2. Example: MNIST's Center Pixel Statistics\n",
    "Why not leave theory for now and prove what I said about that center pixel: Let's calculate its entropy on a large training batch. And then compare that to the conditional entropy, i.e. the entropy of the subset of digits *zero*. "
   ]
  },
  {
   "cell_type": "markdown",
   "metadata": {},
   "source": [
    "We'll be using Tensorflow 1.7.0:"
   ]
  },
  {
   "cell_type": "code",
   "execution_count": 1,
   "metadata": {},
   "outputs": [
    {
     "data": {
      "text/plain": [
       "'1.7.0'"
      ]
     },
     "execution_count": 1,
     "metadata": {},
     "output_type": "execute_result"
    }
   ],
   "source": [
    "import tensorflow as tf\n",
    "import numpy as np\n",
    "import matplotlib.pyplot as plt\n",
    "import dataset # Please have a look at dataset.py in this repo to understand how we get to the data\n",
    "tf.__version__"
   ]
  },
  {
   "cell_type": "markdown",
   "metadata": {},
   "source": [
    "It's always recommended to visualize and verify the quality of the input data. Note that we're using the recommended tf.data.Dataset API here, which is the reason we can't use TF1.7's eager API. Instead we create a new interactive session for each calculation. That ensures we always draw the first minibatch from the dataset and thus get reproducible results. "
   ]
  },
  {
   "cell_type": "code",
   "execution_count": 2,
   "metadata": {},
   "outputs": [
    {
     "data": {
      "text/plain": [
       "array([5, 0, 4, 1, 9, 2, 1, 3, 1, 4], dtype=int32)"
      ]
     },
     "execution_count": 2,
     "metadata": {},
     "output_type": "execute_result"
    },
    {
     "data": {
      "image/png": "[encoded data removed]",
      "text/plain": [
       "<Figure size 432x288 with 10 Axes>"
      ]
     },
     "metadata": {},
     "output_type": "display_data"
    }
   ],
   "source": [
    "sess = tf.InteractiveSession()\n",
    "FLAGS=lambda: None\n",
    "FLAGS.data_dir='data/digits'\n",
    "\n",
    "training_set = dataset.training_dataset(FLAGS.data_dir)\n",
    "samples = training_set.batch(10).make_one_shot_iterator().get_next()\n",
    "samples = sess.run(samples)\n",
    "f, arr = plt.subplots(2,5)\n",
    "for row in (0, 1):\n",
    "    for col in range(5):\n",
    "        i = 5 * row + col\n",
    "        img = samples[0][i].reshape([28,28])\n",
    "        arr[row, col].imshow(img)\n",
    "samples[1][:10]"
   ]
  },
  {
   "cell_type": "markdown",
   "metadata": {},
   "source": [
    "So, that's good. Let's take the zeros within the first 10'000 images (There are 1001 of those). Enjoy the beautiful functional interface of the datasets!"
   ]
  },
  {
   "cell_type": "code",
   "execution_count": 3,
   "metadata": {},
   "outputs": [
    {
     "data": {
      "text/plain": [
       "1001"
      ]
     },
     "execution_count": 3,
     "metadata": {},
     "output_type": "execute_result"
    },
    {
     "data": {
      "image/png": "[encoded data removed]",
      "text/plain": [
       "<Figure size 432x288 with 10 Axes>"
      ]
     },
     "metadata": {},
     "output_type": "display_data"
    }
   ],
   "source": [
    "sess = tf.InteractiveSession()\n",
    "FLAGS=lambda: None \n",
    "FLAGS.data_dir='data/digits'\n",
    "\n",
    "training_set = dataset.training_dataset(FLAGS.data_dir)\n",
    "samples = training_set.repeat().batch(10000).make_one_shot_iterator().get_next()\n",
    "_samples = sess.run(samples)\n",
    "\n",
    "# Functional interfaces: Read from bottom to top: zip - then filter - then map\n",
    "zeros = list(map( lambda r: r[0],          # take the image, drop the class, it's zero anyway!\n",
    "    filter(lambda r: r[1] == 0,            # filter zero class\n",
    "           zip(_samples[0],_samples[1])))) # zip images and classes\n",
    "\n",
    "f, arr = plt.subplots(2,5)\n",
    "for row in (0, 1):\n",
    "    for col in range(5):\n",
    "        i = 5 * row + col\n",
    "        img = np.reshape(zeros[i], [28,28])\n",
    "        arr[row, col].imshow(img)\n",
    "len(zeros)"
   ]
  },
  {
   "cell_type": "markdown",
   "metadata": {},
   "source": [
    "Now, we'll extract the center pixel No. 406 and observe the distribution of it's value within the zeros compared to the entire batch of 10'000 images"
   ]
  },
  {
   "cell_type": "code",
   "execution_count": 4,
   "metadata": {},
   "outputs": [
    {
     "data": {
      "image/png": "[encoded data removed]",
      "text/plain": [
       "<Figure size 432x288 with 1 Axes>"
      ]
     },
     "metadata": {},
     "output_type": "display_data"
    }
   ],
   "source": [
    "# An image has 28x28=784 pixels, hence 784/2 + 14 = 406 is the center pixel (Ok, ok, it's one of the four center pixels!)\n",
    "CENTER_POS = 406\n",
    "\n",
    "centers_0    = list(map(lambda img: img[CENTER_POS], zeros))\n",
    "centers_all  = list(map(lambda img: img[CENTER_POS], _samples[0]))\n",
    "_=plt.hist(centers_0, bins=10)"
   ]
  },
  {
   "cell_type": "markdown",
   "metadata": {},
   "source": [
    "As promised, apart from a few exceptions, almost all pixels are zero or very close to zero. Let's see the distribution of the center pixel values if all different digits."
   ]
  },
  {
   "cell_type": "code",
   "execution_count": 5,
   "metadata": {},
   "outputs": [
    {
     "data": {
      "text/plain": [
       "array([3782.,  261.,  286.,  259.,  260.,  250.,  304.,  341.,  360.,\n",
       "       3897.])"
      ]
     },
     "execution_count": 5,
     "metadata": {},
     "output_type": "execute_result"
    },
    {
     "data": {
      "image/png": "[encoded data removed]",
      "text/plain": [
       "<Figure size 432x288 with 1 Axes>"
      ]
     },
     "metadata": {},
     "output_type": "display_data"
    }
   ],
   "source": [
    "_=plt.hist(centers_all, bins=10)\n",
    "_[0]"
   ]
  },
  {
   "cell_type": "markdown",
   "metadata": {},
   "source": [
    "As opposed to the above, the distribution within the entire batch of 10'000 is less predictable, i.e. it has a higher entropy."
   ]
  },
  {
   "cell_type": "markdown",
   "metadata": {},
   "source": [
    "To compute the entropy of the distribution, we take the partition counts. Note the special handling of the last bin."
   ]
  },
  {
   "cell_type": "code",
   "execution_count": 6,
   "metadata": {},
   "outputs": [],
   "source": [
    "def partition_count(D, N):\n",
    "    d = (np.max(D) - np.min(D))/N \n",
    "    c = np.array(D)\n",
    "    counts = [np.sum((c >= k/N) * (c < k/N+d)) for k in range(N)]\n",
    "    counts[N-1] += np.sum(c == np.max(D))\n",
    "    return np.array(counts)"
   ]
  },
  {
   "cell_type": "code",
   "execution_count": 7,
   "metadata": {},
   "outputs": [
    {
     "data": {
      "text/plain": [
       "array([3782,  261,  286,  259,  260,  250,  304,  341,  360, 3897])"
      ]
     },
     "execution_count": 7,
     "metadata": {},
     "output_type": "execute_result"
    }
   ],
   "source": [
    "partition_count(centers_all, 10)"
   ]
  },
  {
   "cell_type": "code",
   "execution_count": 8,
   "metadata": {},
   "outputs": [
    {
     "data": {
      "text/plain": [
       "array([961,   6,   7,   3,   7,   1,   4,   2,   2,   8])"
      ]
     },
     "execution_count": 8,
     "metadata": {},
     "output_type": "execute_result"
    }
   ],
   "source": [
    "partition_count(centers_0, 10)"
   ]
  },
  {
   "cell_type": "markdown",
   "metadata": {},
   "source": [
    " "
   ]
  },
  {
   "cell_type": "markdown",
   "metadata": {},
   "source": [
    "Now we compute the entropy of all center pixels compared to entropy of all $zero$'s center pixels\n",
    "\n",
    "We had: $ H(X) := -\\sum_{x \\in \\mathcal{X}} p(x) \\log p(x)$"
   ]
  },
  {
   "cell_type": "code",
   "execution_count": 9,
   "metadata": {},
   "outputs": [
    {
     "name": "stdout",
     "output_type": "stream",
     "text": [
      "entropy given x=0: 0.24904864416161798\n",
      "total entropy:     1.5546047214294172\n"
     ]
    }
   ],
   "source": [
    "probs_all = partition_count(centers_all, 10) / 10000\n",
    "\n",
    "entropy_all = -np.sum(probs_all * np.log(probs_all))\n",
    "\n",
    "probs_0 = partition_count(centers_0, 10) / 1001\n",
    "\n",
    "entropy_0 = -np.sum(probs_0 * np.log(probs_0))\n",
    "\n",
    "print(\"entropy given x=0: %s\" % entropy_0)\n",
    "print(\"total entropy:     %s\" % entropy_all)"
   ]
  },
  {
   "cell_type": "markdown",
   "metadata": {},
   "source": [
    "You can now see that the entropy of the entire batch of 10'000 is much higher than the entropy of the distribution given that the digit is known to be 0. Note that the partition count is not a differentiable function of the values in the distribution. To use the concept of entropy in the context of gradient descent, we need a differentiable approximation of the partitioning function. \n",
    "\n",
    "Please be aware that the actual value of the entropy critically depends on the number of bins (or partitions):"
   ]
  },
  {
   "cell_type": "code",
   "execution_count": 10,
   "metadata": {},
   "outputs": [
    {
     "data": {
      "text/plain": [
       "[1.2168332446532635,\n",
       " 1.3097585265532563,\n",
       " 1.385292573993926,\n",
       " 1.4492236695331937,\n",
       " 1.5064213236719182,\n",
       " 1.5546047214294172,\n",
       " 1.597813961249977,\n",
       " 1.6418669196087423,\n",
       " 1.6879621530351372,\n",
       " 1.7211309660412366]"
      ]
     },
     "execution_count": 10,
     "metadata": {},
     "output_type": "execute_result"
    }
   ],
   "source": [
    "def probs_all(n_bins):\n",
    "    return partition_count(centers_all, n_bins) / 10000\n",
    "\n",
    "[-np.sum(probs_all(n) * np.log(probs_all(n))) for n in range(5, 15)]"
   ]
  },
  {
   "cell_type": "markdown",
   "metadata": {},
   "source": [
    "### 3. Differentiable Partitioning"
   ]
  },
  {
   "cell_type": "markdown",
   "metadata": {},
   "source": [
    "We have seen how we can calculate the total entropy and the conditional entropy with regards to the labels of a mini-batch of image samples with the help of simple statistics based on binned distributions. In order to use the entropy as a cost function within the concept of gradient-based optimization later on, we need a differentiable approximation of the entropy terms. That turns out to be a surprisingly easy exercise. \n",
    "\n",
    "Remember the sigmoid function?\n",
    "$$ \\sigma(x) = \\frac{1}{1 + e^{-x}} $$"
   ]
  },
  {
   "cell_type": "code",
   "execution_count": 11,
   "metadata": {},
   "outputs": [],
   "source": [
    "def sigmoid(x):\n",
    "    return 1 / (1 + np.exp(-x))"
   ]
  },
  {
   "cell_type": "markdown",
   "metadata": {},
   "source": [
    "Let's use two of these to create a more interesting kind of *partitioning* function:\n",
    "\n",
    "$ f(x) = \\sigma(x - x_l) \\cdot \\sigma(x + x_r) $\n",
    "\n",
    "For example, for $x_l=5$ and $x_r=15$, that function looks like"
   ]
  },
  {
   "cell_type": "code",
   "execution_count": 12,
   "metadata": {},
   "outputs": [
    {
     "data": {
      "image/png": "[encoded data removed]",
      "text/plain": [
       "<Figure size 432x288 with 1 Axes>"
      ]
     },
     "metadata": {},
     "output_type": "display_data"
    }
   ],
   "source": [
    "def f(x, x_l, x_r):\n",
    "    return sigmoid(x - x_l) * sigmoid(-x + x_r)\n",
    "x=np.linspace(0, 20, 200)\n",
    "fig, ax = plt.subplots()\n",
    "ax.plot(x, sigmoid(x-5)+.05)\n",
    "ax.plot(x, sigmoid(15-x)+0.05)\n",
    "ax.plot(x, f(x, 5, 15))\n",
    "\n",
    "ax.grid(True, which='both')\n",
    "ax.spines['left'].set_position('zero')\n",
    "ax.spines['bottom'].set_position('zero')"
   ]
  },
  {
   "cell_type": "markdown",
   "metadata": {},
   "source": [
    "See, what it does? It approximately maps all values in a certain bin's range to 1 and all values outside of it to 0. \n",
    "Please don't confuse this with a gaussian."
   ]
  },
  {
   "cell_type": "markdown",
   "metadata": {},
   "source": [
    "To make this function more square-looking and treat the borders appropriate, we introduce stretch and margin parameters. You'll easily figure out yourself what they do.\n",
    "\n",
    "Here's the precise definition that we'll use in the following calucations:\n",
    "\n",
    "Let $ x_i \\in [x_{min}, x_{max}] $ be a sample from distribution $D$, $d=x_{max}-x_{min}$,\n",
    "let $\\alpha, \\epsilon$ be arbitrary real numbers representing a stretch and a margin, then we define the *bin filter* $\\beta_n(x)$ for the $n$-th bin of width $d$ as\n",
    "\n",
    "$$ \\beta_n(x_i) = \\sigma(\\alpha \\cdot (x_i - l_n) + \\epsilon) \\cdot \n",
    " \\sigma(\\alpha \\cdot ( -x_i + l_n + d + \\epsilon))\n",
    "$$\n",
    "\n",
    "Here, $l_n$ is the left border of the $n$-th bin: $l_n = x_{min} + (n-1) \\cdot d$ "
   ]
  },
  {
   "cell_type": "code",
   "execution_count": 13,
   "metadata": {},
   "outputs": [],
   "source": [
    "def beta(n, N, l, r, alpha, epsilon):\n",
    "    \"\"\"\n",
    "    return the bin function for the n-th bin of N bins for numbers between l and r\n",
    "    alpha and epsilon are stretch and margin parameters\n",
    "    \"\"\"\n",
    "    d = (r - l) / N\n",
    "    l_n = l + (n-1) * d\n",
    "    def _beta(x):\n",
    "        sigmoid_left = tf.nn.sigmoid(alpha * (x-l_n+epsilon)) \n",
    "        sigmoid_right = tf.nn.sigmoid(alpha*(-x+l_n+d+epsilon))\n",
    "        return sigmoid_left * sigmoid_right\n",
    "    \n",
    "    return _beta"
   ]
  },
  {
   "cell_type": "markdown",
   "metadata": {},
   "source": [
    "As an example, we plot the partitioning function that maps values between $ 0.2 $ and $ 0.3 $ to the value $ 1 $ and all others to $ 0 $. Applying this function $\\beta_3(x)$ to a sample produces $1$s whereever the single value in the sample is within that range, and $0$s otherwise. The sum of all the values is the number of the examples in that particular partition."
   ]
  },
  {
   "cell_type": "code",
   "execution_count": 14,
   "metadata": {},
   "outputs": [],
   "source": [
    "ALPHA=1e4\n",
    "EPSILON=1e-5"
   ]
  },
  {
   "cell_type": "code",
   "execution_count": 15,
   "metadata": {},
   "outputs": [
    {
     "data": {
      "image/png": "[encoded data removed]",
      "text/plain": [
       "<Figure size 432x288 with 1 Axes>"
      ]
     },
     "metadata": {},
     "output_type": "display_data"
    }
   ],
   "source": [
    "x=np.linspace(0, 1, 500)\n",
    "fig, ax = plt.subplots()\n",
    "beta3=beta(3, 10, 0, 1, alpha=ALPHA, epsilon=EPSILON)\n",
    "beta3_x = sess.run(beta3(x))\n",
    "ax.plot(x, beta3_x)\n",
    "ax.grid(True, which='both')\n",
    "ax.spines['left'].set_position('zero')\n",
    "ax.spines['bottom'].set_position('zero')"
   ]
  },
  {
   "cell_type": "markdown",
   "metadata": {},
   "source": [
    "Now, let us count the number of pixels that fell between $0.2$ and $0.3$"
   ]
  },
  {
   "cell_type": "code",
   "execution_count": 16,
   "metadata": {},
   "outputs": [],
   "source": [
    "# Please note that betas[0] is not used. We count the bins in a natural manner\n",
    "betas = [beta(n, 10, 0, 1, alpha=ALPHA, epsilon=EPSILON) for n in range(11)]\n",
    "betas[0]=None"
   ]
  },
  {
   "cell_type": "code",
   "execution_count": 17,
   "metadata": {},
   "outputs": [
    {
     "name": "stdout",
     "output_type": "stream",
     "text": [
      "Differentiable bin count [3760, 269, 291, 268, 260, 255, 311, 357, 372, 3857]\n",
      "Classical bin count      [3782, 261, 286, 259, 260, 250, 304, 341, 360, 3897]\n",
      "Deviation in %:         [-0.58, 3.07, 1.75, 3.47, 0.0, 2.0, 2.3, 4.69, 3.33, -1.03]\n"
     ]
    }
   ],
   "source": [
    "sess = tf.InteractiveSession()\n",
    "# The scaling (factor 0.98) and shifting by 0.01 makes sure, we don't count 0s and 1s only as halves\n",
    "tf_center_all = samples[0][:, CENTER_POS] * .98 + 0.01\n",
    "tf_center_all_labels = samples[1]\n",
    "N_k = [tf.reduce_sum(betas[k](tf_center_all)) for k in range(1, 11)] \n",
    "differentiable = list(sess.run(tf.cast(N_k, tf.int32)))\n",
    "print(\"Differentiable bin count %s\" % differentiable)\n",
    "classical = list(partition_count(centers_all, 10))\n",
    "print(\"Classical bin count      %s\" % classical)\n",
    "deviations = list(np.round(np.divide(np.subtract(differentiable,classical),classical)*100,2))\n",
    "print(\"Deviation in %%:         %s\" % deviations)"
   ]
  },
  {
   "cell_type": "markdown",
   "metadata": {},
   "source": [
    "Please observe that the resulting numbers are *reasonably* close to the classical counts. Since we're not interested in the actual value but rather their behaviour over time, that can be considered acceptable."
   ]
  },
  {
   "cell_type": "markdown",
   "metadata": {},
   "source": [
    "Below, we compute the partition functions in a slightly different way. Note that the functions cover a range of values slightly extended to the left and the right. That's because the distribution has the majority of samples at the borders $0.0$ and $1.0$, and we want to make sure that these border values are counted correctly, too. The partition functions given below have maxima exactly at the borders. This allows us to relax the stretching through parameter alpha. As a net result, gradients will be more well-behaved, at the cost of slightly decreased accuracy."
   ]
  },
  {
   "cell_type": "code",
   "execution_count": 18,
   "metadata": {},
   "outputs": [],
   "source": [
    "def part_funs(D, N, alpha):\n",
    "    \"\"\"\n",
    "    Compute the array of partitions functions that count the number of values \n",
    "    in each of the N partitions of the discrete distribution D\n",
    "    \"\"\"\n",
    "    d_max=tf.reduce_max(D)\n",
    "    d_min=tf.reduce_min(D)\n",
    "    d = (d_max - d_min) / (N-1)\n",
    "    d_min = d_min - d/2\n",
    "    d_max = d_max + d/2\n",
    "    M = tf.cast(tf.size(D), dtype=tf.float32)\n",
    "    \n",
    "    return [beta(k, N, d_min, d_max, alpha, epsilon=0) for k in range(1, N+1)]"
   ]
  },
  {
   "cell_type": "code",
   "execution_count": 19,
   "metadata": {},
   "outputs": [
    {
     "data": {
      "text/plain": [
       "[3628.977,\n",
       " 326.02313,\n",
       " 325.01813,\n",
       " 294.9538,\n",
       " 273.02808,\n",
       " 273.0264,\n",
       " 336.96368,\n",
       " 398.0099,\n",
       " 496.0412,\n",
       " 3647.9587]"
      ]
     },
     "execution_count": 19,
     "metadata": {},
     "output_type": "execute_result"
    }
   ],
   "source": [
    "sess = tf.InteractiveSession()\n",
    "betas = part_funs(tf_center_all, 10, alpha=1e4)\n",
    "distr = [tf.reduce_sum(betas[k](tf_center_all)) for k in range(10)]\n",
    "sess.run(distr)"
   ]
  },
  {
   "cell_type": "markdown",
   "metadata": {},
   "source": [
    "### 4. Computing the Entropy of a discrete distribution  \n",
    "\n",
    "The Entropy of a distribution X was defined as\n",
    "\n",
    "$$ H(X) := -\\sum_{x \\in \\mathcal{X}} p(x) \\log p(x)$$\n",
    "\n",
    "Using the bin counts $c_k$ with $\\sum c_k = M$ as shown above, we get\n",
    "\n",
    "$$ H(X) = -\\sum_{k=1}^N  \\frac{c_k}{M} \\log  \\frac{c_k}{M}$$\n",
    "\n",
    "thus, using our differentiable partition counter functions $\\beta_k(x_i)$\n",
    "\n",
    "$$ c_k = \\sum_{i=1}^M \\beta_k(x_i) $$\n",
    "\n",
    "the approximation can be computed by\n",
    "\n",
    "$$ \\tilde{H}(X) = \\log M -\\frac{1}{M}\\sum_{k=1}^N  \\sum_{i=1}^M \\beta_k(x_i)  \\log  \\sum_{i=1}^M \\beta_k(x_i) $$\n",
    "\n"
   ]
  },
  {
   "cell_type": "markdown",
   "metadata": {},
   "source": [
    "As we see, the counts are still not too far what the discrete count yielded."
   ]
  },
  {
   "cell_type": "markdown",
   "metadata": {},
   "source": [
    "The approximated, differentiable entropy, computed using Tensorflow:\n",
    "\n",
    "$$ \\tilde{H}(X) = \\log M -\\frac{1}{M}\\sum_{k=1}^N  \\sum_{i=1}^M \\beta_k(x_i)  \\log  \\sum_{i=1}^M \\beta_k(x_i) $$"
   ]
  },
  {
   "cell_type": "code",
   "execution_count": 20,
   "metadata": {},
   "outputs": [],
   "source": [
    "def entropy(D, N, alpha):\n",
    "    \"\"\"\n",
    "    Calculate the entropy of the discrete sample D using N partitions \n",
    "    \"\"\"\n",
    "    M = tf.cast(tf.size(D), dtype=tf.float32)\n",
    "    \n",
    "    partitions=part_funs(D, N, alpha)\n",
    "    c=[tf.reduce_sum(partitions[k](D)) for k in range(N)] # this is counting the partitions\n",
    "\n",
    "    sums = tf.reduce_sum(c * tf.log(c)) # this is the sum over all partitions\n",
    "    return tf.log(M) - sums / M"
   ]
  },
  {
   "cell_type": "code",
   "execution_count": 21,
   "metadata": {},
   "outputs": [
    {
     "data": {
      "text/plain": [
       "1.6869102"
      ]
     },
     "execution_count": 21,
     "metadata": {},
     "output_type": "execute_result"
    }
   ],
   "source": [
    "sess = tf.InteractiveSession()\n",
    "sess.run(entropy(tf_center_all, 10, alpha=1e2))"
   ]
  },
  {
   "cell_type": "markdown",
   "metadata": {},
   "source": [
    "Now, the conditional entropy goes just the same way, only that we need to mask the classes out after counting the samples in each bin. Masking is obviously done with the help of the labels that usually come with the training samples.\n",
    "\n",
    "Remember how we calculate the conditional entropy? In our case, $x$ is the class label - the prior - and $y$ is the index of the bin or partition that the pixel is sorted into.\n",
    "\n",
    "$$ H(Y \\big| X) = - \\sum_{x \\in \\mathcal{X}} \\sum_{y\\in \\mathcal{Y}} p(x,y) \\log(\\frac{p(x,y)}{p(x)})$$\n",
    "\n",
    "The implementation is pretty straight-forward"
   ]
  },
  {
   "cell_type": "code",
   "execution_count": 22,
   "metadata": {},
   "outputs": [],
   "source": [
    "def cond_entropy(D, L, N_classes, N_bins, alpha):\n",
    "    \"\"\"\n",
    "        calculate the conditional entropy of distribution D given labels L\n",
    "    \"\"\"\n",
    "    \n",
    "    betas = part_funs(D, N_bins, alpha)\n",
    "    \n",
    "    M=tf.cast(tf.size(D), dtype=tf.float32)\n",
    "\n",
    "    # The mask is used to count by class\n",
    "    mask = [ tf.cast(tf.equal(c, L), tf.float32) for c in range(N_classes) ]\n",
    "    # N_classes lists of counts => N_classes conditional distributions\n",
    "    cond_counts = [\n",
    "        [\n",
    "            tf.reduce_sum(betas[n](D) * mask[k]) for n in range(N_bins)\n",
    "        ] for k in range(N_classes)\n",
    "    ]\n",
    "\n",
    "    pxy = cond_counts / M                       # p(x,y)\n",
    "    px = tf.reduce_sum(cond_counts, axis=1) / M # p(x)\n",
    "\n",
    "    epsilon_stab = 1e-4 # to stabilize the log term\n",
    "    # need to transpose forth and back to enable broadcasting\n",
    "    pxy_px = tf.transpose(tf.transpose(pxy) / (tf.transpose(px)) + epsilon_stab) \n",
    "\n",
    "    return -tf.reduce_sum(pxy * tf.log(pxy_px))"
   ]
  },
  {
   "cell_type": "code",
   "execution_count": 23,
   "metadata": {},
   "outputs": [
    {
     "data": {
      "text/plain": [
       "1.3828831"
      ]
     },
     "execution_count": 23,
     "metadata": {},
     "output_type": "execute_result"
    }
   ],
   "source": [
    "sess = tf.InteractiveSession()\n",
    "D = tf_center_all\n",
    "L = tf_center_all_labels\n",
    "sess.run(cond_entropy(D, L, N_classes=10, N_bins=10, alpha=ALPHA))"
   ]
  },
  {
   "cell_type": "markdown",
   "metadata": {},
   "source": [
    "Now we look at the information gain:\n",
    "$ I(X;Y) = H(Y) - H(Y|X) $"
   ]
  },
  {
   "cell_type": "code",
   "execution_count": 24,
   "metadata": {},
   "outputs": [],
   "source": [
    "def info_gain(D, L, N_classes, N_bins, alpha):\n",
    "    H_D = entropy(D, N_classes, alpha)\n",
    "    H_cond = cond_entropy(D, L, N_classes, N_bins, alpha)\n",
    "    return H_D - H_cond"
   ]
  },
  {
   "cell_type": "code",
   "execution_count": 25,
   "metadata": {},
   "outputs": [
    {
     "data": {
      "text/plain": [
       "0.28876078"
      ]
     },
     "execution_count": 25,
     "metadata": {},
     "output_type": "execute_result"
    }
   ],
   "source": [
    "sess = tf.InteractiveSession()\n",
    "sess.run(info_gain(D, L, N_classes=10, N_bins=10, alpha=1e2))"
   ]
  },
  {
   "cell_type": "markdown",
   "metadata": {},
   "source": [
    " "
   ]
  },
  {
   "cell_type": "markdown",
   "metadata": {},
   "source": [
    "Let's see what happens when we vary the number of partitions"
   ]
  },
  {
   "cell_type": "code",
   "execution_count": 26,
   "metadata": {},
   "outputs": [
    {
     "data": {
      "text/plain": [
       "[0.6390507,\n",
       " 0.54783213,\n",
       " 0.47079957,\n",
       " 0.40283108,\n",
       " 0.34296823,\n",
       " 0.28876078,\n",
       " 0.23875403,\n",
       " 0.19057584,\n",
       " 0.14553034,\n",
       " 0.10231459]"
      ]
     },
     "execution_count": 26,
     "metadata": {},
     "output_type": "execute_result"
    }
   ],
   "source": [
    "sess = tf.InteractiveSession()\n",
    "gains_bins=[info_gain(D, L, N_classes=10, N_bins=n, alpha=1e2) for n in range(5, 15)]\n",
    "sess.run(gains_bins)"
   ]
  },
  {
   "cell_type": "markdown",
   "metadata": {},
   "source": [
    "Note that the actual value for the information gain depends on the number of partitions that we use, which is arguably not a desired outcome. But that behaviour stems from the discrete partitioning itself. Results coming from different partitionings are not comparable. Still the behaviour of the entropy and the information gain, given a fixed partitioning, can yield valuable insights into the inner workings of neural networks."
   ]
  }
 ],
 "metadata": {
  "kernelspec": {
   "display_name": "Python 3",
   "language": "python",
   "name": "python3"
  },
  "language_info": {
   "codemirror_mode": {
    "name": "ipython",
    "version": 3
   },
   "file_extension": ".py",
   "mimetype": "text/x-python",
   "name": "python",
   "nbconvert_exporter": "python",
   "pygments_lexer": "ipython3",
   "version": "3.6.4"
  }
 },
 "nbformat": 4,
 "nbformat_minor": 2
}
