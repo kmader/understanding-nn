{
 "cells": [
  {
   "cell_type": "markdown",
   "metadata": {
    "slideshow": {
     "slide_type": "slide"
    }
   },
   "source": [
    "# Trying to Understand Neural Networks\n",
    "### A collection of glimpses into a complex field\n",
    "##### by Wolfgang Giersche, Zühlke Engineering\n",
    "![Fashion MNIST t-SNE](./images/Some_Network.jpeg)\n"
   ]
  },
  {
   "cell_type": "markdown",
   "metadata": {
    "slideshow": {
     "slide_type": "slide"
    }
   },
   "source": [
    "# Ways and Means to Understand Neural Networks\n",
    "\n",
    "### Preface: Mathematical Notation of Neural Networks \n",
    "### Topology of the Loss Surface\n",
    "### Topology of Activations\n",
    "### Entropy, Information Gain, and the *Eureka Effect*\n",
    "### Resources"
   ]
  },
  {
   "cell_type": "code",
   "execution_count": 1,
   "metadata": {
    "slideshow": {
     "slide_type": "skip"
    }
   },
   "outputs": [],
   "source": [
    "import matplotlib.pyplot as plt\n",
    "import matplotlib\n",
    "import numpy as np\n",
    "import seaborn as sns"
   ]
  },
  {
   "cell_type": "markdown",
   "metadata": {
    "slideshow": {
     "slide_type": "slide"
    }
   },
   "source": [
    "### Preface: Mathematical Notation of Neural Networks\n",
    "\n",
    "For today's context, a neural network is a function\n",
    "$$ f: \\mathbb{R}^n \\rightarrow \\mathbb{R}^m \\text{ with }  f(\\mathbf{x}) = \\mathbf{y} \\text{; for } \\mathbf{x} \\in \\mathbb{R}^n \\text{ and } \\mathbf{y} \\in \\mathbb{R}^m  $$\n",
    "\n",
    "Here, we consider only those functions that can be expressed as an affine map composed with a componentwise non-linear *activation* function \n",
    "$\\varphi(\\mathbf{x})$, like\n",
    "\n",
    "$$ f^{(1)}(\\mathbf{x}) = \\varphi^{(1)}(\\Theta^{(1)} \\cdot \\mathbf{x} + \\mathbf{b}^{(1)}) $$ \n",
    "\n",
    "or a composition of e.g. two of those:\n",
    "\n",
    "$$ f^{(2)}(\\mathbf{x})=\\varphi^{(2)} \\big( \\Theta^{(2)} \\cdot \\varphi^{(1)}(\\Theta^{(1)} \\cdot \\mathbf{x}+\\mathbf{b}^{(1)}) + \\mathbf{b}^{(2)} \\big) $$ \n",
    "\n",
    "or in *apply* ($\\circ$) notation for a k-layer neural network\n",
    "\n",
    "$$ f = f^{(k)} \\circ  f^{(k-1)} \\circ \\dots \\circ f^{(2)} \\circ f^{(1)}(\\mathbf{x}) $$\n",
    "\n",
    "If you're new to NNs, [Michael Nielson's Web booklet](http://neuralnetworksanddeeplearning.com/) is an excellent first-time drug to get you addicted."
   ]
  },
  {
   "cell_type": "markdown",
   "metadata": {
    "slideshow": {
     "slide_type": "slide"
    }
   },
   "source": [
    "Typical non-linear activation functions are the sigmoid $\\sigma(x)$, hyperbolic tangent $tanh(x)$ or relu:"
   ]
  },
  {
   "cell_type": "code",
   "execution_count": 2,
   "metadata": {
    "slideshow": {
     "slide_type": "-"
    }
   },
   "outputs": [
    {
     "data": {
      "text/plain": [
       "[<matplotlib.lines.Line2D at 0x10f4b9470>]"
      ]
     },
     "execution_count": 2,
     "metadata": {},
     "output_type": "execute_result"
    },
    {
     "data": {
      "image/png": "[encoded data removed]",
      "text/plain": [
       "<Figure size 1080x288 with 3 Axes>"
      ]
     },
     "metadata": {},
     "output_type": "display_data"
    }
   ],
   "source": [
    "def sigmoid(x):\n",
    "    return 1 / (1 + np.exp(-x))\n",
    "def relu(x):\n",
    "    return np.greater(x,0) * x\n",
    "matplotlib.rcParams['figure.figsize'] = (15,4)\n",
    "f, arr = plt.subplots(1,3)\n",
    "x = np.linspace(-10,10, 100)\n",
    "for i in range(3):\n",
    "    arr[i].grid(True) \n",
    "arr[0].plot(x, sigmoid(x))\n",
    "arr[1].plot(x, np.tanh(x))\n",
    "arr[2].plot(x, relu(x))"
   ]
  },
  {
   "cell_type": "markdown",
   "metadata": {
    "slideshow": {
     "slide_type": "notes"
    }
   },
   "source": [
    "Note that also the linear part of convolutional layers can be expressed as a simple matrix multiplication, but also that the most successful CNN architectures are slightly more complex than that. \n",
    "\n",
    "So here $\\mathbf{x}$ is e.g. an image ($28 \\times 28$ grey-scale) in case of MNIST images, and $\\mathbf{y}$ is *what the network thinks about its input*. \n",
    "\n",
    "Training a neural network means optimizing the function $f$ such that eventually it *thinks about what might have led to the occurrence of* $\\mathbf{x}$. We say *the network infers the prior*. In the case of MNIST, the prior is what the instructor told people to write down."
   ]
  },
  {
   "cell_type": "markdown",
   "metadata": {
    "slideshow": {
     "slide_type": "slide"
    }
   },
   "source": [
    "<img src=\"images/NN_2x3x3x2.png\" width=\"400\">\n",
    "\n",
    "\n",
    "With $k = 3$, like in the above typical depiction, we have\n",
    "\n",
    "$ f = f^{(3)} \\circ f^{(2)} \\circ f^{(1)}(\\mathbf{x}) $\n",
    "\n",
    "$f^{(1)}$ maps the input layer to the first hidden layer *hidden_1* \n",
    "\n",
    "$f^{(2)}$ maps the first hidden layer *hidden_1* to the second hidden layer *hidden_2* \n",
    "\n",
    "$f^{(3)}$ maps the second hidden layer *hidden_2* to the output layer $\\mathbf{y}$\n",
    "\n",
    "\n"
   ]
  },
  {
   "cell_type": "markdown",
   "metadata": {
    "slideshow": {
     "slide_type": "slide"
    }
   },
   "source": [
    "### Optimization: Tweaking the Network Parameters\n",
    "\n",
    "For MNIST hand-written digit recognition, we want the activities of the 10 output neurons interpretable as the probability that a given Image is actually depicting the corresponding digit.\n",
    "\n",
    "If that works out, we can comfortably call the neuron with maximum activation the *prediction* of the network for a given image."
   ]
  },
  {
   "cell_type": "markdown",
   "metadata": {
    "slideshow": {
     "slide_type": "slide"
    }
   },
   "source": [
    "### The Objective Function\n",
    "\n",
    "#### The *Distance* from the Truth\n",
    "\n",
    "mean squared error:\n",
    "$$ L_{sme}(y, \\bar{y}, \\Theta) = \\sum_{i=1}^N || y_i(\\Theta, x) - \\bar{y}_i || $$ \n",
    "\n",
    "cross entropy:\n",
    "$$ L_{ce}(y, \\bar{y}, \\Theta) = - \\sum_{i=1}^N \\bar{y}_i \\cdot log(y_i(\\Theta, x)) $$ \n",
    "\n",
    "Where $N$ is the number of input vectors, and $y_i$ is supposed be constrained within the range $]0, 1[$ and $\\bar{y}_i$ denotes the given labels - the *truth* or the *prior*"
   ]
  },
  {
   "cell_type": "markdown",
   "metadata": {
    "slideshow": {
     "slide_type": "slide"
    }
   },
   "source": [
    "### Gradient Descent and Back Propagation\n",
    "\n",
    "To find the minimum of such an objective function, we employ *gradient descent*, with respect to the parameter set $(\\Theta, b)$, using *back propagation* to efficiently compute the gradients.\n",
    "\n",
    "Sebastian Ruder has a [very nice overview](http://ruder.io/optimizing-gradient-descent/) of the most popular gradient descent algorithms.\n",
    "\n",
    "In his blog's [Chapter 2](http://neuralnetworksanddeeplearning.com/chap2.html), Michael Nielson's explains back propagation in great detail.\n",
    "\n",
    "The seminal [Rummelhardt Paper](https://www.iro.umontreal.ca/~vincentp/ift3395/lectures/backprop_old.pdf) is (with all respect) at most an interesting trip into the past."
   ]
  },
  {
   "cell_type": "markdown",
   "metadata": {
    "slideshow": {
     "slide_type": "slide"
    }
   },
   "source": [
    "# Topology of the Loss Surface\n",
    "\n",
    "##### About Minima and Saddles\n",
    "\n",
    "Why do networks so rarely get trapped in local minima?\n",
    "\n",
    "![surface](images/surface.png)"
   ]
  },
  {
   "cell_type": "markdown",
   "metadata": {
    "slideshow": {
     "slide_type": "slide"
    }
   },
   "source": [
    "### Critical Points in High-Dimensional Space\n",
    "\n",
    "#### - Any minimimum will have a vanishing gradient: $\\nabla_{\\Theta} L(y,\\bar{y}, \\Theta) = 0$\n",
    "\n",
    "#### - Any minimum will have non-negative Eigenvalues in it's Hessian\n",
    "\n",
    "#### - The probability of local minima will decrease with the number of parameters\n",
    "\n",
    "#### - It's the saddles that are more problematic in large neural networks\n",
    "\n"
   ]
  },
  {
   "cell_type": "markdown",
   "metadata": {
    "slideshow": {
     "slide_type": "slide"
    }
   },
   "source": [
    "### Resources\n",
    "\n",
    "A not so rigorous, yet pretty approachable read on the role of saddle points (unpublished)\n",
    "[Are Saddles Good Enough for Deep Learning](https://arxiv.org/abs/1706.02052), Sankar et al. arXiv:1706.02052 [stat.ML]\n",
    "\n",
    "\n",
    "More rigorously, Choromanska, A., Henaff, M., Mathieu, M., Arous, G. B., & LeCun, Y. (2015). [The loss surfaces of multilayer networks](http://arxiv.org/abs/1412.0233). Journal of Machine Learning Research, 38, 192-204.\n",
    "\n",
    "empirically verify that\n",
    "\n",
    "- For large-size networks, most local minima are equivalent and yield similar performance on a test set.\n",
    "- The probability of finding a “bad” (high value) local minimum is non-zero for small-size networks and decreases quickly with network size.\n",
    "- Finding the global minimum on the training set may lead to overfitting.\n",
    "\n",
    "Dauphin, Y., Pascanu, R., Gülcehre, C¸ ., Cho, K., Ganguli, S., and Bengio, Y. (2014). [Identifying and attacking the saddle point problem in high-dimensional non-convex optimization](http://arxiv.org/abs/1406.2572). In NIPS.\n",
    "\n",
    "Claim that it's not local minima but rather high error saddle points that can keep the network from converging well. The devise a strategy called \"Saddle-free Newton method\" to *attack* the saddles"
   ]
  },
  {
   "cell_type": "markdown",
   "metadata": {
    "slideshow": {
     "slide_type": "slide"
    }
   },
   "source": [
    "# Topology Of Activations\n",
    "\n",
    "Here, we mean the topology of the entire input space as it is propagated from layer to layer.\n",
    "\n",
    "![Manifolds](./images/manifold.png)"
   ]
  },
  {
   "cell_type": "markdown",
   "metadata": {
    "slideshow": {
     "slide_type": "slide"
    }
   },
   "source": [
    "#### Resources \n",
    "\n",
    "Get a first visual impression with [Karpthy's ConvnetJS](https://cs.stanford.edu/people/karpathy/convnetjs/demo/classify2d.html)\n",
    "\n",
    "For another visual, yet in-depth discussion on topology, [Chris Olah's blog](http://colah.github.io/posts/2014-03-NN-Manifolds-Topology/) is certainly a good place to start with. \n",
    "\n",
    "Interesting research direction: [Poole et al. 2016](http://arxiv.org/abs/1606.05340) exploit Riemannian geometry together with mean field theory to get to some deeper insight into the expressiveness of deep neural networks."
   ]
  },
  {
   "cell_type": "markdown",
   "metadata": {
    "slideshow": {
     "slide_type": "slide"
    }
   },
   "source": [
    "## Tutorial: Topology\n",
    "\n",
    "Watching the topology develop during training may help to understand the forces that create flat saddle planes:\n",
    "\n",
    "### The Problem\n",
    "\n",
    "An unknown distribution $\\mathcal{C}$ from the alphabet $ \\{R, B \\} $ creates a uniform distribution of points $(x,y)$. \n",
    "From a known number of such points and their priors (whether they result from $R$ or $B$, train a network\n",
    "to infer for any other point $(x,y)$, whether it stems from symbol $R$ or $B$.\n"
   ]
  },
  {
   "cell_type": "markdown",
   "metadata": {
    "slideshow": {
     "slide_type": "slide"
    }
   },
   "source": [
    "![rb](./images/rb-distribution.png)\n",
    "Load ./Topology.ipynb into your jupyter notebook"
   ]
  },
  {
   "cell_type": "markdown",
   "metadata": {
    "slideshow": {
     "slide_type": "slide"
    }
   },
   "source": [
    "# Entropy, Information Gain, And The *εὕρηκα Effect*\n",
    "\n",
    "- Finding something out sometimes makes you happy, before you even see, what it's good for.\n",
    "\n",
    "- The human objective function *joy* provides feedback without the *subsequent layers* input.\n",
    "\n",
    "- To a (science-loving) human, revealing structure is itself satisfactory.\n",
    "\n",
    "- Revealing structure = discovering a compressed representation\n",
    "\n",
    "- Maybe information theory has some tools...?\n",
    "\n",
    "- Can an artificial neural network layer already do sth without the input from subsequent layer?"
   ]
  },
  {
   "cell_type": "markdown",
   "metadata": {
    "slideshow": {
     "slide_type": "slide"
    }
   },
   "source": [
    "## Entropy and Mutual Information: Resources\n",
    "\n",
    "Introduction: [Aurelion Geron's Youtube video](https://www.youtube.com/watch?v=ErfnhcEV1O8)\n",
    "\n",
    "Most inspiring paper (to me): [Tishby et al. Deep Learning and the Information Bottleneck Principle](http://arxiv.org/abs/1503.02406)\n",
    "\n",
    "\"...we ... formulate the goal of deep learning as an information theoretic tradeoff between compression and prediction\""
   ]
  },
  {
   "cell_type": "markdown",
   "metadata": {
    "slideshow": {
     "slide_type": "slide"
    }
   },
   "source": [
    "#### Entropy \n",
    "\n",
    "$$ H(X) := -\\sum_{x \\in \\mathcal{X}} p(x) \\log p(x)$$\n",
    "\n",
    "#### Conditional entropy \n",
    "\n",
    "$$ H(Y \\big| X) := \\sum_{x \\in \\mathcal{X}} p(x) H(Y\\big|X=x) = -\\sum_{x \\in \\mathcal{X}} \\sum_{y\\in \\mathcal{Y}} p(x,y) \\log(\\frac{p(x,y)}{p(x)})$$\n",
    "\n",
    "#### Mutual Information (Information Gain)\n",
    "\n",
    "$$ I(X;Y) := H(Y) - H(Y|X) $$\n",
    "\n",
    "$$ I(X;Y) = \\sum_{x \\in \\mathcal{X}} \\sum_{y\\in \\mathcal{Y}} p(x,y)log(\\frac{p(x,y)}{p(x)p(y)}) $$"
   ]
  },
  {
   "cell_type": "markdown",
   "metadata": {
    "slideshow": {
     "slide_type": "slide"
    }
   },
   "source": [
    "## Optimizing Information Gain\n",
    "\n",
    "#### Bold Claim: Information gain allows a layer to improve its activations without waiting for backpropagated gradients to arrive.\n",
    "\n",
    "#### Working with Information Gain\n",
    "- Measure the information gain of the activations w/r to the *prior* \n",
    "- Consider information gain as objective function \n",
    "- Problem: We need some differentiable partitioning to do bin statistics\n",
    "\n",
    "#### Big Disappointment: It doesn't work (yet).\n",
    "\n",
    "#### Still interesting enough to pursue..."
   ]
  },
  {
   "cell_type": "markdown",
   "metadata": {
    "slideshow": {
     "slide_type": "slide"
    }
   },
   "source": [
    "# Summary\n",
    "\n",
    "#### Various mathematical approaches reveal more and more insight into neural network behaviour\n",
    "\n",
    "#### It's not so difficult to *play* with these concepts\n",
    "\n",
    "#### Understanding the dynamics helps being successful in applying neural networks\n",
    "\n",
    "#### Missing Subjects:\n",
    "\n",
    "- Regularization\n",
    "- Layer Visualization\n",
    "- Adversarial Attacks\n",
    "- Using Auto-Encoders\n"
   ]
  },
  {
   "cell_type": "markdown",
   "metadata": {
    "slideshow": {
     "slide_type": "slide"
    }
   },
   "source": [
    "# Popular Web Resources\n",
    "\n",
    "[Nielsen2015] <a name=\"Nielsen2015\"/> \n",
    "Michael A. Nielsen, Neural Networks and Deep Learning (2015). *Determination Press* -\n",
    "[Blog](http://neuralnetworksanddeeplearning.com/) - [Github](https://github.com/mnielsen/neural-networks-and-deep-learning)\n",
    "\n",
    "[Ruder2016] <a name=\"Ruder2016\"/>\n",
    "Sebastian Ruder (2016). An Overview of Gradient Descent Optimization Algorithms. *Personal Blog and PDF* -\n",
    "[Blog](http://ruder.io/optimizing-gradient-descent/) - [arxiv](https://arxiv.org/pdf/1609.04747v2.pdf)\n",
    "\n",
    "[Olah2018] <a name=\"Olah2018\"/> Olah, et al. (2018). \"The Building Blocks of Interpretability\", *Distill*. - \n",
    "[Blog](https://distill.pub/2018/building-blocks/)\n",
    "\n",
    "[Olah2017] <a name=\"Olah2017\"/> \n",
    "Olah, et al. (2017), \"Feature Visualization\", *Distill*. - \n",
    "[Github](https://github.com/distillpub/post--feature-visualization) - [Blog](https://distill.pub/2017/feature-visualization/)\n",
    "\n",
    "[Olah2014-1] <a name=\"Olah2014-1\"/>\n",
    "Christopher Olah (2014). \"Neural Networks, Manifolds, and Topology - *Personal Blog* - \n",
    "[Blog](http://colah.github.io/posts/2014-03-NN-Manifolds-Topology)\n",
    "\n",
    "[Olah2014-2] <a name=\"Olah2014-2\"/> \n",
    "Cristopher Olah (2014). Visualizing MNIST: An Exploration of Dimensionality Reduction. *Personal Blog* -\n",
    "[Blog](http://colah.github.io/posts/2014-10-Visualizing-MNIST/)\n",
    "\n",
    "[Geron2018] <a name=\"Geron2018\"/> \n",
    "Aurelion Geron (2018). Entropy, Cross-Entropy, & KL-Divergence. *Video Blog* -\n",
    "[Youtube](https://www.youtube.com/watch?v=ErfnhcEV1O8)\n",
    "\n",
    "[Geron2017] <a name=\"Geron2017\"/> \n",
    "Arelion Geron (2017). Capsule Networks. *Video Blogs* - \n",
    "[Youtube: Explanation](https://www.youtube.com/watch?v=pPN8d0E3900) - [Youtube: Implementation](https://www.youtube.com/watch?v=2Kawrd5szHE) - [Github](https://github.com/ageron/handson-ml)\n",
    "\n",
    "\n"
   ]
  },
  {
   "cell_type": "markdown",
   "metadata": {
    "slideshow": {
     "slide_type": "slide"
    }
   },
   "source": [
    "# Scientific Resources For The Covered Subjects\n",
    "\n",
    "[Tishby2000] <a name=\"Tishby2000\"/> \n",
    "Tishby, N., Pereira, F. C., & Bialek, W. (2000). The information bottleneck method. https://doi.org/10.1108/eb040537 - \n",
    "[Arxiv](https://arxiv.org/abs/physics/0004057)\n",
    "\n",
    "[Tishby2015] <a name=\"Tishby2015\"/> \n",
    "Tishby, N., & Zaslavsky, N. (2015). Deep Learning and the Information Bottleneck Principle. Ieee, 1–5. https://doi.org/10.1109/ITW.2015.7133169 -\n",
    "[Arxiv](http://arxiv.org/abs/1503.02406)\n",
    "\n",
    "[Khadivi2016] <a name=\"Khadivi2016\"/> \n",
    "Khadivi, P., Tandon, R., & Ramakrishnan, N. (2016). Flow of Information in Feed-Forward Deep Neural Networks. - \n",
    "[Arxiv](http://arxiv.org/abs/1603.06220)\n"
   ]
  },
  {
   "cell_type": "markdown",
   "metadata": {
    "slideshow": {
     "slide_type": "slide"
    }
   },
   "source": [
    "# Hand-picked Scientific Resources On Related Topics\n",
    "\n",
    "[Su2017] <a name=\"Su2017\"/> \n",
    "Su, J., Vargas, D. V., & Kouichi, S. (2017). One pixel attack for fooling deep neural networks. -\n",
    "[Arxiv](http://arxiv.org/abs/1710.08864)\n",
    "\n",
    "[Sabour2017] <a name=\"Sabour2017\"/> \n",
    "Sabour, S., Frosst, N., & Hinton, G. E. (2017). Dynamic Routing Between Capsules. -\n",
    "[Arxiv](http://arxiv.org/abs/1710.09829)\n",
    "\n",
    "[Kawaguchi2017] <a name=\"Kawaguchi2017\"/>\n",
    "Kawaguchi, Kenji & Pack Kaelbling, Leslie & Bengio, Y. (2017). Generalization in Deep Learning. -  [Arxiv](https://arxiv.org/abs/1710.05468)\n",
    "[Strobelt2018] <a name=\"Strobelt2018\"/>\n",
    "\n",
    "Strobelt, H., Gehrmann, S., Pfister, H., & Rush, A. M. (2018). LSTMVis: A Tool for Visual Analysis of Hidden State Dynamics in Recurrent Neural Networks. *IEEE Transactions on Visualization and Computer Graphics, 24(1), 667–676.* https://doi.org/10.1109/TVCG.2017.2744158 - \n",
    "[Vimeo](https://vimeo.com/215907429) - [Arxiv](https://arxiv.org/pdf/1606.07461.pdf) - [Homepage](http://lstm.seas.harvard.edu/) - [github](https://github.com/HendrikStrobelt/LSTMVis)\n"
   ]
  },
  {
   "cell_type": "code",
   "execution_count": null,
   "metadata": {},
   "outputs": [],
   "source": []
  }
 ],
 "metadata": {
  "kernelspec": {
   "display_name": "Python 3",
   "language": "python",
   "name": "python3"
  },
  "language_info": {
   "codemirror_mode": {
    "name": "ipython",
    "version": 3
   },
   "file_extension": ".py",
   "mimetype": "text/x-python",
   "name": "python",
   "nbconvert_exporter": "python",
   "pygments_lexer": "ipython3",
   "version": "3.6.4"
  }
 },
 "nbformat": 4,
 "nbformat_minor": 2
}
